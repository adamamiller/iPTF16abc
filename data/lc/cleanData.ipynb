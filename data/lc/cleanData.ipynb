{
 "cells": [
  {
   "cell_type": "code",
   "execution_count": 10,
   "metadata": {
    "collapsed": true
   },
   "outputs": [],
   "source": [
    "import numpy as np\n",
    "import tables"
   ]
  },
  {
   "cell_type": "code",
   "execution_count": 11,
   "metadata": {
    "collapsed": true
   },
   "outputs": [],
   "source": [
    "class Photometry(tables.IsDescription):\n",
    "    JD         = tables.Float64Col()\n",
    "    mag        = tables.Float64Col()\n",
    "    magErr     = tables.Float64Col()\n",
    "    magLimit   = tables.Float64Col()\n",
    "    filterName = tables.StringCol(16)\n",
    "    source     = tables.StringCol(32)"
   ]
  },
  {
   "cell_type": "code",
   "execution_count": 17,
   "metadata": {
    "collapsed": false
   },
   "outputs": [],
   "source": [
    "h5file = tables.open_file(\"iPTF16abcLightCurve.h5\", mode=\"w\")"
   ]
  },
  {
   "cell_type": "code",
   "execution_count": 18,
   "metadata": {
    "collapsed": false
   },
   "outputs": [],
   "source": [
    "tbl = h5file.create_table(h5file.root, \"LightCurve\", Photometry, \"iPTF16abc Light Curve Table\")\n",
    "phot = tbl.row"
   ]
  },
  {
   "cell_type": "code",
   "execution_count": 19,
   "metadata": {
    "collapsed": false
   },
   "outputs": [],
   "source": [
    "with open(\"rawData.txt\", \"r\") as fp:\n",
    "    for row in fp:\n",
    "        if len(row) < 5:\n",
    "            continue\n",
    "        if row.startswith(\"date\"): \n",
    "            continue\n",
    "        tmp = row[:-1].split(\",\")\n",
    "        JD = float(tmp[1])\n",
    "        filterName = tmp[2][1:-1]\n",
    "        mag = float(tmp[4])\n",
    "        magErr = float(tmp[5])\n",
    "        magLimit = float(tmp[6])\n",
    "        instrument = tmp[7][1:-1]\n",
    "        reducedby = tmp[8][1:-1]\n",
    "        if ((instrument.find(\"P48\") > -1) and (reducedby.find(\"PTFIDE\") > -1)) or\\\n",
    "           ((instrument.find(\"P60\") > -1) and (reducedby.find(\"Fremling\") > -1)) or\\\n",
    "           ((instrument.find(\"RATIR\") > -1) and (reducedby.find(\"Fox\") > -1)):\n",
    "            phot[\"JD\"] = JD\n",
    "            phot[\"mag\"] = mag if mag < 30 else None\n",
    "            phot[\"magErr\"] = magErr if magErr < 30 else None\n",
    "            phot[\"magLimit\"] = magLimit if magLimit < 30 else None\n",
    "            phot[\"filterName\"] = filterName\n",
    "            phot[\"source\"] = instrument\n",
    "            phot.append()"
   ]
  },
  {
   "cell_type": "code",
   "execution_count": 20,
   "metadata": {
    "collapsed": false
   },
   "outputs": [],
   "source": [
    "import datetime \n",
    "\n",
    "def date2JD(date):\n",
    "    a = (14 - date.month) / 12\n",
    "    y = date.year + 4800 - a\n",
    "    m = date.month + 12*a - 3\n",
    "    jdn = date.day + (153*m + 2) / 5 + 365 * y + y/4 - y/100 + y/400 - 32045\n",
    "    jd = jdn + (date.hour - 12) / 24. + date.minute / 1440. + date.second / 86400.\n",
    "    return jd\n",
    "\n",
    "with open(\"swiftRawData.txt\", \"r\") as fp:\n",
    "    for row in fp:\n",
    "        if row.startswith(\"#\"):\n",
    "            continue\n",
    "        if len(row) < 5:\n",
    "            continue\n",
    "        tmp = row[:-1].split(\"\\t\")\n",
    "        date = datetime.datetime.strptime(tmp[1].split(\".\")[0], \"%Y-%m-%d %H:%M:%S\")\n",
    "        JD = date2JD(date)\n",
    "        mag = float(tmp[10])\n",
    "        magErr = float(tmp[0])\n",
    "        magLimit = float(tmp[7])\n",
    "        filterName = tmp[8].strip()\n",
    "        instrument = \"Swift+UVOT\"\n",
    "        phot[\"JD\"] = JD\n",
    "        phot[\"mag\"] = mag\n",
    "        phot[\"magErr\"] = magErr\n",
    "        phot[\"magLimit\"] = magLimit\n",
    "        phot[\"filterName\"] = filterName\n",
    "        phot[\"source\"] = instrument\n",
    "        phot.append()"
   ]
  },
  {
   "cell_type": "code",
   "execution_count": 21,
   "metadata": {
    "collapsed": true
   },
   "outputs": [],
   "source": [
    "h5file.close()"
   ]
  },
  {
   "cell_type": "code",
   "execution_count": null,
   "metadata": {
    "collapsed": true
   },
   "outputs": [],
   "source": []
  }
 ],
 "metadata": {
  "anaconda-cloud": {},
  "kernelspec": {
   "display_name": "Python [default]",
   "language": "python",
   "name": "python2"
  },
  "language_info": {
   "codemirror_mode": {
    "name": "ipython",
    "version": 2
   },
   "file_extension": ".py",
   "mimetype": "text/x-python",
   "name": "python",
   "nbconvert_exporter": "python",
   "pygments_lexer": "ipython2",
   "version": "2.7.12"
  }
 },
 "nbformat": 4,
 "nbformat_minor": 0
}
