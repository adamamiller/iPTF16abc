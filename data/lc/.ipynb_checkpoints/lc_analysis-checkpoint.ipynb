{
 "cells": [
  {
   "cell_type": "code",
   "execution_count": 4,
   "metadata": {
    "collapsed": true
   },
   "outputs": [],
   "source": [
    "%matplotlib inline\n",
    "from astropy.io import ascii\n",
    "import matplotlib.pyplot as plt\n",
    "import numpy as np\n",
    "import os\n",
    "import tables"
   ]
  },
  {
   "cell_type": "code",
   "execution_count": 46,
   "metadata": {
    "collapsed": true
   },
   "outputs": [],
   "source": [
    "# Define data format\n",
    "class Photometry(tables.IsDescription):\n",
    "    time = tables.Float64Col()\n",
    "    flux = tables.Float32Col()\n",
    "    flux_err = tables.Float32Col()\n",
    "    mag = tables.Float32Col()\n",
    "    mag_err = tables.Float32Col()\n",
    "    telescope = tables.StringCol(16)\n",
    "    instrument = tables.StringCol(16)\n",
    "    filter_name = tables.StringCol(16)\n",
    "    \n",
    "\n",
    "class TransmissionCurve(tables.IsDescription):\n",
    "    wavelength = tables.Float32Col()\n",
    "    transmission = tables.Float32Col()"
   ]
  },
  {
   "cell_type": "code",
   "execution_count": 50,
   "metadata": {
    "collapsed": false
   },
   "outputs": [],
   "source": [
    "def create_photometry_datafile():\n",
    "    data_filename = \"../iPTF16abc.h5\"\n",
    "\n",
    "    fp = tables.open_file(data_filename, mode=\"a\", title='iPTF16abc')\n",
    "    phot_group = fp.create_group(fp.root, \"photometry\", \"Photometry Data\")\n",
    "\n",
    "    # P48\n",
    "    table = fp.create_table(phot_group, \"photometry\", Photometry, \"Light curve\")\n",
    "    table.attrs.FIELD_0_UNIT = \"day\"\n",
    "    table.attrs.FIELD_1_UNIT = \"Jy\"\n",
    "    table.attrs.FIELD_2_UNIT = \"Jy\"\n",
    "    table.attrs.FIELD_3_UNIT = \"AB mag\"\n",
    "    table.attrs.FIELD_4_UNIT = \"AB mag\"\n",
    "    row = table.row\n",
    "    data = ascii.read(\"forcepsffitdiff_d100151_f1_c11.out\", format=\"ipac\")\n",
    "    for item in data:\n",
    "        if item[\"MJD\"] < 57470:\n",
    "            continue\n",
    "        row[\"time\"] = item[\"MJD\"]\n",
    "        row[\"flux\"] = item[\"flux\"] * 10**(-item[\"zpmag\"] / 2.5) * 3631  # Jy\n",
    "        row[\"flux_err\"] = row[\"flux\"] * ((item[\"sigflux\"] / item[\"flux\"])**2 + (item[\"zprms\"] / 2.5)**2)**0.5\n",
    "        if item[\"flux\"] >= 5. * item[\"sigflux\"]:\n",
    "            row[\"mag\"] = -2.5 * np.log10(item[\"flux\"]) + item[\"zpmag\"]\n",
    "            row[\"mag_err\"] = ((2.5 * item[\"sigflux\"] / item[\"flux\"])**2 + item[\"zprms\"]**2)**0.5\n",
    "        else:\n",
    "            row[\"mag\"] = -2.5 * np.log10(5. * item[\"sigflux\"]) + item[\"zpmag\"]\n",
    "            row[\"mag_err\"] = 99\n",
    "        row[\"telescope\"] = \"P48\"\n",
    "        row[\"instrument\"] = \"CFH12K\"\n",
    "        row[\"filter_name\"] = \"g\"\n",
    "        row.append()\n",
    "\n",
    "    data = ascii.read(\"forcepsffitdiff_d3381_f2_c10.out\", format=\"ipac\")\n",
    "    for item in data:\n",
    "        if item[\"MJD\"] < 57470:\n",
    "            continue\n",
    "        row[\"time\"] = item[\"MJD\"]\n",
    "        row[\"flux\"] = item[\"flux\"] * 10**(-item[\"zpmag\"] / 2.5) * 3631  # Jy\n",
    "        row[\"flux_err\"] = row[\"flux\"] * ((item[\"sigflux\"] / item[\"flux\"])**2 + (item[\"zprms\"] / 2.5)**2)**0.5\n",
    "        if item[\"flux\"] >= 5. * item[\"sigflux\"]:\n",
    "            row[\"mag\"] = -2.5 * np.log10(item[\"flux\"]) + item[\"zpmag\"]\n",
    "            row[\"mag_err\"] = ((2.5 * item[\"sigflux\"] / item[\"flux\"])**2 + item[\"zprms\"]**2)**0.5\n",
    "        else:\n",
    "            row[\"mag\"] = -2.5 * np.log10(5. * item[\"sigflux\"]) + item[\"zpmag\"]\n",
    "            row[\"mag_err\"] = 99\n",
    "        row[\"telescope\"] = \"P48\"\n",
    "        row[\"filter_name\"] = \"R\"\n",
    "        row.append()\n",
    "\n",
    "    # P60\n",
    "    with open(\"Marshal_lc.txt\", \"r\") as fp_txt:\n",
    "        for item in fp_txt:\n",
    "            items = item.split(\",\")\n",
    "            if len(items) < 3:\n",
    "                continue\n",
    "            if not items[7].startswith(\"\\\"P60\"):\n",
    "                continue\n",
    "            filter_name = items[2][1:-1]\n",
    "            mag = float(items[4])\n",
    "            mag_err = float(items[5])\n",
    "            if mag > 90.:\n",
    "                continue\n",
    "            row[\"time\"] = float(items[1]) - 2400000.5\n",
    "            row[\"mag\"] = mag\n",
    "            row[\"mag_err\"] = mag_err\n",
    "            row[\"telescope\"] = \"P60\"\n",
    "            row[\"instrument\"] = \"SEDM\"\n",
    "            row[\"filter_name\"] = filter_name\n",
    "            row[\"flux\"] = 10**(-mag/2.5) * 3631\n",
    "            row[\"flux_err\"] = 0.921 * row[\"mag_err\"] * row[\"flux\"]\n",
    "            row.append()\n",
    "        \n",
    "    filter_group = fp.create_group(phot_group, \"filters\", \"Filter transmission curves\")\n",
    "    for filter_name in [\"g\", \"R\"]:\n",
    "        table = fp.create_table(filter_group, \n",
    "                                \"P48_\" + filter_name, TransmissionCurve, \n",
    "                                \"P48 %s filter transmission\" % filter_name)\n",
    "        table.attrs.FIELD_0_UNIT = \"Angstrom\"\n",
    "        table.attrs.FIELD_1_UNIT = \"photons per Angstrom\"\n",
    "        transmission = np.genfromtxt(\"../filters/P48/P48_%s.dat\" % filter_name,\n",
    "                                     names=[\"wavelength\", \"transmission\"])\n",
    "        row = table.row\n",
    "        for item in transmission:\n",
    "            row[\"wavelength\"] = item[\"wavelength\"]\n",
    "            row[\"transmission\"] = item[\"transmission\"]\n",
    "            row.append()\n",
    "    for filter_name in [\"g\", \"r\", \"i\"]:\n",
    "        table = fp.create_table(filter_group, \n",
    "                                \"P60_\" + filter_name, TransmissionCurve, \n",
    "                                \"P60 %s filter transmission\" % filter_name)\n",
    "        table.attrs.FIELD_0_UNIT = \"Angstrom\"\n",
    "        table.attrs.FIELD_1_UNIT = \"photons per Angstrom\"\n",
    "        transmission = np.genfromtxt(\"../filters/SEDm/%sband_eff.dat\" % filter_name,\n",
    "                                     names=[\"wavelength\", \"transmission\"])\n",
    "        row = table.row\n",
    "        for item in transmission:\n",
    "            row[\"wavelength\"] = item[\"wavelength\"]\n",
    "            row[\"transmission\"] = item[\"transmission\"]\n",
    "            row.append()\n",
    "\n",
    "    fp.close()"
   ]
  },
  {
   "cell_type": "code",
   "execution_count": 40,
   "metadata": {
    "collapsed": false
   },
   "outputs": [
    {
     "ename": "SyntaxError",
     "evalue": "invalid syntax (<ipython-input-40-7f05189e6a03>, line 2)",
     "output_type": "error",
     "traceback": [
      "\u001b[0;36m  File \u001b[0;32m\"<ipython-input-40-7f05189e6a03>\"\u001b[0;36m, line \u001b[0;32m2\u001b[0m\n\u001b[0;31m    lc = dict{}\u001b[0m\n\u001b[0m             ^\u001b[0m\n\u001b[0;31mSyntaxError\u001b[0m\u001b[0;31m:\u001b[0m invalid syntax\n"
     ]
    }
   ],
   "source": [
    "def read_data(data_filename = \"../iPTF16abc.h5\"):\n",
    "    lc = dict{}\n",
    "    fp = tables.open_file(data_filename, mode=\"r\")\n",
    "    phot_group = fp.root.photometry\n",
    "    table = "
   ]
  },
  {
   "cell_type": "code",
   "execution_count": 51,
   "metadata": {
    "collapsed": false
   },
   "outputs": [],
   "source": [
    "create_photometry_datafile()"
   ]
  },
  {
   "cell_type": "code",
   "execution_count": null,
   "metadata": {
    "collapsed": true
   },
   "outputs": [],
   "source": []
  }
 ],
 "metadata": {
  "anaconda-cloud": {},
  "kernelspec": {
   "display_name": "Python [default]",
   "language": "python",
   "name": "python2"
  },
  "language_info": {
   "codemirror_mode": {
    "name": "ipython",
    "version": 2
   },
   "file_extension": ".py",
   "mimetype": "text/x-python",
   "name": "python",
   "nbconvert_exporter": "python",
   "pygments_lexer": "ipython2",
   "version": "2.7.12"
  }
 },
 "nbformat": 4,
 "nbformat_minor": 1
}
