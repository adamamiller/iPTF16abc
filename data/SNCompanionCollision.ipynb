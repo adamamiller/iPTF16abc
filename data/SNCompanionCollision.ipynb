{
 "cells": [
  {
   "cell_type": "code",
   "execution_count": 95,
   "metadata": {
    "collapsed": true
   },
   "outputs": [],
   "source": [
    "import phys\n",
    "import numpy as np\n",
    "\n",
    "class SNCompanionCollision(object):\n",
    "    \n",
    "    def __init__(self, a=1e13, M=phys.sm, v=1e9, kappa=0.2):\n",
    "        \"\"\"\n",
    "        parameters:\n",
    "            a: binary separation in cm (default value: 1e13)\n",
    "            M: ejecta mass in gram (default value: one solar mass)\n",
    "            v: expansion velocity in cm/s (default value: 1e9)\n",
    "            kappa: opacity in cm^2/gram (default value: 0.2)\n",
    "        \"\"\"\n",
    "        self.a = a / 1e13\n",
    "        self.M = M / phys.sm\n",
    "        self.v = v / 1e9\n",
    "        self.kappa = kappa / 0.2\n",
    "    \n",
    "    def _AngularDependence(self, theta):\n",
    "        \"\"\"\n",
    "        This function uses the parameterization of eq. (3) in Brown et al. 2012, ApJ, 749, 18\n",
    "        parameters:\n",
    "            theta: viewing angle in degrees\n",
    "        return paramters:\n",
    "            angular dependence factor\n",
    "        \"\"\"\n",
    "        theta_rad = theta * 0.01745\n",
    "        return 0.2075 * (0.5 * np.cos(theta_rad) + 0.5) *\\\n",
    "            (0.14 * theta_rad * theta_rad - 0.4 * theta_rad + 1) * np.cos(theta_rad)\n",
    "        \n",
    "    def _DerivedEquation(self, t):\n",
    "        \"\"\"\n",
    "        Eqs. (22) and (25)\n",
    "        parameter:\n",
    "            t: in units of days after explosion\n",
    "        return parameters:\n",
    "            luminosity: luminosity in ergs/s\n",
    "            temperature: temperature in kelvin\n",
    "        \"\"\"\n",
    "        luminosity = 1e43 * self.a * self.M**(0.25) * self.v**(1.75) * self.kappa**(-0.75) * t**(-0.5)\n",
    "        temperature = 2.5e4 * self.a**(0.25) * self.kappa**(-35. / 36) * t**(-37. / 72)\n",
    "        return luminosity, temperature\n",
    "    \n",
    "    def _PlanckFunction(self, wavelength, temperature):\n",
    "        \"\"\"\n",
    "        parameters:\n",
    "            wavelength: wavelength in Angstrom\n",
    "            temperature: thermal temperature in Kelvin\n",
    "        return paramters:\n",
    "            flux density in ergs/s/cm^2/ster/Angstrom\n",
    "        \"\"\"\n",
    "        factor = phys.h * phys.c / (wavelength * 1e-8 * phys.k * temperature)\n",
    "        flux = 2. * phys.h * phys.c * phys.c / (wavelength * 1e-8)**5 /\\\n",
    "            (np.exp(factor) - 1) * 1e-8\n",
    "        return flux\n",
    "    \n",
    "    def Spectrum(self, t, theta):\n",
    "        \"\"\"\n",
    "        parameters:\n",
    "            t: in units of days after explosion\n",
    "            theta: viewing angle in degrees\n",
    "        return parameters:\n",
    "            a function to calculate spectrum at a given wavelength in units of ergs/s/ster/Angstrom\n",
    "        \"\"\"\n",
    "        luminosity, temperature = self._DerivedEquation(t)\n",
    "        f = self._AngularDependence(theta)\n",
    "        func = lambda wavelength: f * luminosity * np.pi * self._PlanckFunction(wavelength, temperature) /\\\n",
    "                                  (phys.sigma * temperature**4)\n",
    "        return func"
   ]
  },
  {
   "cell_type": "code",
   "execution_count": 107,
   "metadata": {
    "collapsed": true
   },
   "outputs": [],
   "source": [
    "from scipy import interpolate\n",
    "from scipy import integrate\n",
    "\n",
    "class Filter(object):\n",
    "    \n",
    "    def __init__(self, name, wavelength, transmission):\n",
    "        \"\"\"\n",
    "        parameters:\n",
    "            name: filter name\n",
    "            wavelength: wavelength in Angstrom\n",
    "            tranmission: in the units of per Angstrom per photon\n",
    "        \"\"\"\n",
    "        self.name = name\n",
    "        self.wavelength = wavelength\n",
    "        self.transmission = transmission\n",
    "        norm = integrate.quad(self._TransmissionInterpolation(),\n",
    "                              self.wavelength.min(),\n",
    "                              self.wavelength.max())[0]\n",
    "        self.transmission /= norm\n",
    "        self.wavelength_eff = 1 /\\\n",
    "            integrate.quad(interpolate.interp1d(self.wavelength,\n",
    "                                                self.transmission,\n",
    "                                                bounds_error=False,\n",
    "                                                fill_value=0),\n",
    "                           self.wavelength.min(),\n",
    "                           self.wavelength.max())[0]\n",
    "        \n",
    "    def _TransmissionInterpolation(self):\n",
    "        return interpolate.interp1d(self.wavelength, \n",
    "                                    self.transmission * self.wavelength, \n",
    "                                    bounds_error=False, \n",
    "                                    fill_value=0)\n",
    "    \n",
    "    def TransmissionCurve(self, wv):\n",
    "        return self._TransmissionInterpolation()(wv)"
   ]
  },
  {
   "cell_type": "code",
   "execution_count": 108,
   "metadata": {
    "collapsed": true
   },
   "outputs": [],
   "source": [
    "import extinction_cal\n",
    "\n",
    "class Spectrum(object):\n",
    "    \n",
    "    def __init__(self, wavelength, flux):\n",
    "        self.wavelength = wavelength\n",
    "        self.flux = flux\n",
    "        \n",
    "    def extinction(self, EBV, RV=3.1):\n",
    "        A = extinction_cal.calALambda(self.wavelength, RV, EBV)\n",
    "        self.flux *= 10**(-A/2.5)\n",
    "        \n",
    "    def redshift(self, z):\n",
    "        self.wavelength *= (1 + z)\n",
    "        self.flux /= (1 + z)\n",
    "        \n",
    "    def SyntheticPhotometry(self, filter_curve):\n",
    "        func = lambda wv: interpolate.interp1d(self.wavelength,\n",
    "                                               self.flux * filter_curve.TransmissionCurve(self.wavelength),\n",
    "                                               bounds_error=False,\n",
    "                                               fill_value=0)(wv)\n",
    "        return integrate.quad(func, self.wavelength.min(), self.wavelength.max())[0]"
   ]
  },
  {
   "cell_type": "code",
   "execution_count": 109,
   "metadata": {
    "collapsed": false
   },
   "outputs": [],
   "source": [
    "# apply it to iPTF16abc\n",
    "z = 0.00232\n",
    "mu = 34.66\n",
    "dist = 10**((mu - 25) / 5) * phys.Mpc\n",
    "t = 0.18  # days. First detection of iPTF16abc\n",
    "mag = 21.4  # mag. First mag of iPTF16abc\n",
    "local_EBV = 0.361\n",
    "galactic_EBV = 0.0279"
   ]
  },
  {
   "cell_type": "code",
   "execution_count": 128,
   "metadata": {
    "collapsed": true
   },
   "outputs": [],
   "source": [
    "def ObservedMagnitude(model, theta, filter_curve, redshift=z):\n",
    "    wv = filter_curve.wavelength / (1 + z)\n",
    "    spec_func = model.Spectrum(t, theta)\n",
    "    spec = Spectrum(wv, spec_func(wv))\n",
    "    spec.extinction(local_EBV)\n",
    "    spec.redshift(redshift)\n",
    "    spec.flux /= (4. * np.pi * dist * dist)\n",
    "    spec.extinction(galactic_EBV)\n",
    "    obs_flux = spec.SyntheticPhotometry(filter_curve)  # F_lambda\n",
    "    obs_flux *= filter_curve.wavelength_eff * (filter_curve.wavelength_eff * 1e-8 / phys.c) * 1e23  # F_nu in Jy\n",
    "    return -2.5 * np.log10(obs_flux / 3631)  # AB mag"
   ]
  },
  {
   "cell_type": "code",
   "execution_count": 129,
   "metadata": {
    "collapsed": false
   },
   "outputs": [],
   "source": [
    "# g-band filter\n",
    "data = np.genfromtxt('../data/filters/P48/P48_g.dat', \n",
    "                     names=[\"wavelength\", \"transmission\"])\n",
    "filter_curve = Filter(\"P48_g\", data[\"wavelength\"], data[\"transmission\"])"
   ]
  },
  {
   "cell_type": "code",
   "execution_count": 162,
   "metadata": {
    "collapsed": false
   },
   "outputs": [
    {
     "data": {
      "image/png": "[encoded data removed]",
      "text/plain": [
       "<matplotlib.figure.Figure at 0x115ef5d90>"
      ]
     },
     "metadata": {},
     "output_type": "display_data"
    }
   ],
   "source": [
    "from scipy import optimize\n",
    "\n",
    "a_list = 10**np.linspace(12, 15, 21)\n",
    "mag_list = np.ndarray(a_list.shape)\n",
    "for i in range(len(a_list)):\n",
    "    a = a_list[i]  # cm\n",
    "    model = SNCompanionCollision(a=a, M=1.4*phys.sm)\n",
    "    func = lambda theta:\\\n",
    "        ObservedMagnitude(model, theta, filter_curve)\n",
    "    mag_list[i] = func(0)\n",
    "    \n",
    "fig = plt.figure()\n",
    "ax = fig.add_subplot(1, 1, 1)\n",
    "ax.set_xscale(\"log\")\n",
    "ax.fill_between(a_list, mag_list, 25, color='gray', alpha=0.5)\n",
    "ax.hlines(mag, *ax.get_xlim(), color='k', linewidth=3)\n",
    "ax.text(1e13, 24, \"SN-companion\\ncollision\\nsignature\", fontsize=14)\n",
    "ax.text(3e12, 21.3, \"First detection of iPTF16abc\", fontsize=14)\n",
    "ax.set_ylim((25, 20))\n",
    "ax.set_xlabel(\"Binary Separation (cm)\", fontsize=14)\n",
    "ax.set_ylabel(\"Apparent Magnitude\", fontsize=14)\n",
    "\n",
    "plt.savefig(\"SNCompanion.pdf\")"
   ]
  },
  {
   "cell_type": "code",
   "execution_count": null,
   "metadata": {
    "collapsed": true
   },
   "outputs": [],
   "source": []
  }
 ],
 "metadata": {
  "anaconda-cloud": {},
  "kernelspec": {
   "display_name": "Python [conda root]",
   "language": "python",
   "name": "conda-root-py"
  },
  "language_info": {
   "codemirror_mode": {
    "name": "ipython",
    "version": 2
   },
   "file_extension": ".py",
   "mimetype": "text/x-python",
   "name": "python",
   "nbconvert_exporter": "python",
   "pygments_lexer": "ipython2",
   "version": "2.7.12"
  }
 },
 "nbformat": 4,
 "nbformat_minor": 1
}
