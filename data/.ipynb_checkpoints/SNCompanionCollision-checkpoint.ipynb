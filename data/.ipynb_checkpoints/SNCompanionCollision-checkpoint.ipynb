{
 "cells": [
  {
   "cell_type": "code",
   "execution_count": 1,
   "metadata": {
    "collapsed": true
   },
   "outputs": [],
   "source": [
    "import phys\n",
    "import numpy as np\n",
    "\n",
    "class SNCompanionCollision(object):\n",
    "    \n",
    "    def __init__(self, a=1e13, M=phys.sm, v=1e9, kappa=0.2):\n",
    "        \"\"\"\n",
    "        parameters:\n",
    "            a: binary separation in cm (default value: 1e13)\n",
    "            M: ejecta mass in gram (default value: one solar mass)\n",
    "            v: expansion velocity in cm/s (default value: 1e9)\n",
    "            kappa: opacity in cm^2/gram (default value: 0.2)\n",
    "        \"\"\"\n",
    "        self.a = a / 1e13\n",
    "        self.M = M / phys.sm\n",
    "        self.v = v / 1e9\n",
    "        self.kappa = kappa / 0.2\n",
    "    \n",
    "    def _AngularDependence(self, theta):\n",
    "        \"\"\"\n",
    "        This function uses the parameterization of eq. (3) in Brown et al. 2012, ApJ, 749, 18\n",
    "        parameters:\n",
    "            theta: viewing angle in degrees\n",
    "        return paramters:\n",
    "            angular dependence factor\n",
    "        \"\"\"\n",
    "        theta_rad = theta * 0.01745\n",
    "        return 0.2075 * (0.5 * np.cos(theta_rad) + 0.5) *\\\n",
    "            (0.14 * theta_rad * theta_rad - 0.4 * theta_rad + 1) * np.cos(theta_rad)\n",
    "        \n",
    "    def _DerivedEquation(self, t):\n",
    "        \"\"\"\n",
    "        Eqs. (22) and (25)\n",
    "        parameter:\n",
    "            t: in units of days after explosion\n",
    "        return parameters:\n",
    "            luminosity: luminosity in ergs/s\n",
    "            temperature: temperature in kelvin\n",
    "        \"\"\"\n",
    "        luminosity = 1e43 * self.a * self.M**(0.25) * self.v**(1.75) * self.kappa**(-0.75) * t**(-0.5)\n",
    "        temperature = 2.5e4 * self.a**(0.25) * self.kappa**(-35. / 36) * t**(-37. / 72)\n",
    "        return luminosity, temperature\n",
    "    \n",
    "    def _PlanckFunction(self, wavelength, temperature):\n",
    "        \"\"\"\n",
    "        parameters:\n",
    "            wavelength: wavelength in Angstrom\n",
    "            temperature: thermal temperature in Kelvin\n",
    "        return paramters:\n",
    "            flux density in ergs/s/cm^2/ster/Angstrom\n",
    "        \"\"\"\n",
    "        factor = phys.h * phys.c / (wavelength * 1e-8 * phys.k * temperature)\n",
    "        flux = 2. * phys.h * phys.c * phys.c / (wavelength * 1e-8)**5 /\\\n",
    "            (np.exp(factor) - 1) * 1e-8\n",
    "        return flux\n",
    "    \n",
    "    def Spectrum(self, t, theta):\n",
    "        \"\"\"\n",
    "        parameters:\n",
    "            t: in units of days after explosion\n",
    "            theta: viewing angle in degrees\n",
    "        return parameters:\n",
    "            a function to calculate spectrum at a given wavelength in units of ergs/s/ster/Angstrom\n",
    "        \"\"\"\n",
    "        luminosity, temperature = self._DerivedEquation(t)\n",
    "        f = self._AngularDependence(theta)\n",
    "        func = lambda wavelength: f * luminosity * self._PlanckFunction(wavelength, temperature) /\\\n",
    "                                  (np.pi * phys.sigma * temperature**4)\n",
    "        return func"
   ]
  },
  {
   "cell_type": "code",
   "execution_count": 2,
   "metadata": {
    "collapsed": true
   },
   "outputs": [],
   "source": [
    "model = SNCompanionCollision()"
   ]
  },
  {
   "cell_type": "code",
   "execution_count": 3,
   "metadata": {
    "collapsed": true
   },
   "outputs": [],
   "source": [
    "spec_func = model.Spectrum(1, 0)"
   ]
  },
  {
   "cell_type": "code",
   "execution_count": 6,
   "metadata": {
    "collapsed": false
   },
   "outputs": [
    {
     "data": {
      "text/plain": [
       "[<matplotlib.lines.Line2D at 0x10f431390>]"
      ]
     },
     "execution_count": 6,
     "metadata": {},
     "output_type": "execute_result"
    },
    {
     "data": {
      "image/png": "[encoded data removed]",
      "text/plain": [
       "<matplotlib.figure.Figure at 0x10ce46d10>"
      ]
     },
     "metadata": {},
     "output_type": "display_data"
    }
   ],
   "source": [
    "import matplotlib.pyplot as plt\n",
    "%matplotlib inline\n",
    "wv = np.linspace(1000, 8000, 10000)\n",
    "plt.plot(wv, spec_func(wv))"
   ]
  },
  {
   "cell_type": "code",
   "execution_count": null,
   "metadata": {
    "collapsed": true
   },
   "outputs": [],
   "source": []
  }
 ],
 "metadata": {
  "anaconda-cloud": {},
  "kernelspec": {
   "display_name": "Python [conda root]",
   "language": "python",
   "name": "conda-root-py"
  },
  "language_info": {
   "codemirror_mode": {
    "name": "ipython",
    "version": 2
   },
   "file_extension": ".py",
   "mimetype": "text/x-python",
   "name": "python",
   "nbconvert_exporter": "python",
   "pygments_lexer": "ipython2",
   "version": "2.7.12"
  }
 },
 "nbformat": 4,
 "nbformat_minor": 1
}
